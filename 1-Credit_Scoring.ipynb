{
 "cells": [
  {
   "cell_type": "markdown",
   "metadata": {},
   "source": [
    "# Credit Scoring - Curso do Alura\n",
    "- **Plataforma do curso**: Alura\n",
    "- **Instrutora**: Karol Penteado\n",
    "- **Data Info**: Statlog (German Credit Data) DataSet\n",
    "- **Data [link](https://archive.ics.uci.edu/ml/datasets/statlog+(german+credit+data))**\n",
    "\n",
    "## Modelagem\n",
    "- O Credit Scoring é um modelo estatístico multivariado que cria um modelo matemático e estima, através de uma probabilidade, a chance do nosso cliente ser adimplente ou inadimplente\n",
    "\n",
    "```python\n",
    "----------------------------------------\n",
    "| cliente --> banco --> credit scoring |\n",
    "----------------------------------------\n",
    "```\n",
    "\n",
    "- Existem alguns algoritmos que são capazes de fazer essa classificação, por exemplo: a regressão logística, o random forest, Naive Bayes, support vector machine.\n",
    "\n",
    "- A princípio, vamos começar aplicando o modelo de classificação, **regressão logística**. \n",
    "\n",
    "- A **regressão logística** consiste em uma técnica muito usada no sistema financeiro. \n",
    "\n",
    "- Este modelo possui um alto comprometimento com a explicabilidade. Nós conseguimos acompanhar muito bem as variáveis ao longo do tempo, conseguimos replicar muito bem esse modelo e isso é bom para fins de fiscalização, além do baixo custo computacional.\n",
    "\n",
    "- No sistema financeiro nós não analisamos **o indivíduo**.\n",
    "\n",
    "- A análise é direcionada para o comportamento de um grupo, portanto, ajustamos o indivíduo dentro de um dos grupos\n"
   ]
  },
  {
   "cell_type": "code",
   "execution_count": 47,
   "metadata": {},
   "outputs": [],
   "source": [
    "import pandas as pd\n",
    "import numpy as np\n",
    "import matplotlib.pyplot as plt\n",
    "import seaborn as sns\n",
    "\n",
    "# \n",
    "from sklearn.model_selection import train_test_split\n",
    "from sklearn.linear_model import LogisticRegression\n",
    "from sklearn.metrics import classification_report, plot_confusion_matrix, confusion_matrix, accuracy_score, f1_score, recall_score, roc_auc_score, roc_curve\n"
   ]
  },
  {
   "cell_type": "markdown",
   "metadata": {},
   "source": [
    "### 1. Abrindo a base de dados e fazendo uma breve exploração"
   ]
  },
  {
   "cell_type": "code",
   "execution_count": 2,
   "metadata": {},
   "outputs": [
    {
     "data": {
      "text/html": [
       "<div>\n",
       "<style scoped>\n",
       "    .dataframe tbody tr th:only-of-type {\n",
       "        vertical-align: middle;\n",
       "    }\n",
       "\n",
       "    .dataframe tbody tr th {\n",
       "        vertical-align: top;\n",
       "    }\n",
       "\n",
       "    .dataframe thead th {\n",
       "        text-align: right;\n",
       "    }\n",
       "</style>\n",
       "<table border=\"1\" class=\"dataframe\">\n",
       "  <thead>\n",
       "    <tr style=\"text-align: right;\">\n",
       "      <th></th>\n",
       "      <th>default</th>\n",
       "      <th>conta_corrente</th>\n",
       "      <th>prazo_emprestimo_meses</th>\n",
       "      <th>historico_credito</th>\n",
       "      <th>proposito_emprestimo</th>\n",
       "      <th>valor_emprestimo</th>\n",
       "      <th>reserva_cc</th>\n",
       "      <th>tempo_emprego_atual</th>\n",
       "      <th>taxa_comp_salario</th>\n",
       "      <th>sexo_est_civil</th>\n",
       "      <th>...</th>\n",
       "      <th>anos_residencia_atual</th>\n",
       "      <th>propriedade</th>\n",
       "      <th>idade</th>\n",
       "      <th>outros_planos_financiamento</th>\n",
       "      <th>tipo_residencia</th>\n",
       "      <th>n_creditos_banco</th>\n",
       "      <th>status_emprego</th>\n",
       "      <th>n_dependentes</th>\n",
       "      <th>telefone</th>\n",
       "      <th>trabalhador_estrangeiro</th>\n",
       "    </tr>\n",
       "  </thead>\n",
       "  <tbody>\n",
       "    <tr>\n",
       "      <th>0</th>\n",
       "      <td>0</td>\n",
       "      <td>&lt; 0 DM</td>\n",
       "      <td>6</td>\n",
       "      <td>critical account/ other credits existing (not ...</td>\n",
       "      <td>domestic appliances</td>\n",
       "      <td>1169</td>\n",
       "      <td>unknown/ no savings account</td>\n",
       "      <td>.. &gt;= 7 years</td>\n",
       "      <td>4</td>\n",
       "      <td>male : single</td>\n",
       "      <td>...</td>\n",
       "      <td>4</td>\n",
       "      <td>real estate</td>\n",
       "      <td>67</td>\n",
       "      <td>none</td>\n",
       "      <td>own</td>\n",
       "      <td>2</td>\n",
       "      <td>skilled employee / official</td>\n",
       "      <td>1</td>\n",
       "      <td>yes, registered under the customers name</td>\n",
       "      <td>yes</td>\n",
       "    </tr>\n",
       "    <tr>\n",
       "      <th>1</th>\n",
       "      <td>1</td>\n",
       "      <td>0 &lt;= ... &lt; 200 DM</td>\n",
       "      <td>48</td>\n",
       "      <td>existing credits paid back duly till now</td>\n",
       "      <td>domestic appliances</td>\n",
       "      <td>5951</td>\n",
       "      <td>... &lt; 100 DM</td>\n",
       "      <td>1 &lt;= ... &lt; 4 years</td>\n",
       "      <td>2</td>\n",
       "      <td>female : divorced/separated/married</td>\n",
       "      <td>...</td>\n",
       "      <td>2</td>\n",
       "      <td>real estate</td>\n",
       "      <td>22</td>\n",
       "      <td>none</td>\n",
       "      <td>own</td>\n",
       "      <td>1</td>\n",
       "      <td>skilled employee / official</td>\n",
       "      <td>1</td>\n",
       "      <td>none</td>\n",
       "      <td>yes</td>\n",
       "    </tr>\n",
       "    <tr>\n",
       "      <th>2</th>\n",
       "      <td>0</td>\n",
       "      <td>no checking account</td>\n",
       "      <td>12</td>\n",
       "      <td>critical account/ other credits existing (not ...</td>\n",
       "      <td>(vacation - does not exist?)</td>\n",
       "      <td>2096</td>\n",
       "      <td>... &lt; 100 DM</td>\n",
       "      <td>4 &lt;= ... &lt; 7 years</td>\n",
       "      <td>2</td>\n",
       "      <td>male : single</td>\n",
       "      <td>...</td>\n",
       "      <td>3</td>\n",
       "      <td>real estate</td>\n",
       "      <td>49</td>\n",
       "      <td>none</td>\n",
       "      <td>own</td>\n",
       "      <td>1</td>\n",
       "      <td>unskilled - resident</td>\n",
       "      <td>2</td>\n",
       "      <td>none</td>\n",
       "      <td>yes</td>\n",
       "    </tr>\n",
       "    <tr>\n",
       "      <th>3</th>\n",
       "      <td>0</td>\n",
       "      <td>&lt; 0 DM</td>\n",
       "      <td>42</td>\n",
       "      <td>existing credits paid back duly till now</td>\n",
       "      <td>radio/television</td>\n",
       "      <td>7882</td>\n",
       "      <td>... &lt; 100 DM</td>\n",
       "      <td>4 &lt;= ... &lt; 7 years</td>\n",
       "      <td>2</td>\n",
       "      <td>male : single</td>\n",
       "      <td>...</td>\n",
       "      <td>4</td>\n",
       "      <td>if not A121 : building society savings agreeme...</td>\n",
       "      <td>45</td>\n",
       "      <td>none</td>\n",
       "      <td>for free</td>\n",
       "      <td>1</td>\n",
       "      <td>skilled employee / official</td>\n",
       "      <td>2</td>\n",
       "      <td>none</td>\n",
       "      <td>yes</td>\n",
       "    </tr>\n",
       "    <tr>\n",
       "      <th>4</th>\n",
       "      <td>1</td>\n",
       "      <td>&lt; 0 DM</td>\n",
       "      <td>24</td>\n",
       "      <td>delay in paying off in the past</td>\n",
       "      <td>car (new)</td>\n",
       "      <td>4870</td>\n",
       "      <td>... &lt; 100 DM</td>\n",
       "      <td>1 &lt;= ... &lt; 4 years</td>\n",
       "      <td>3</td>\n",
       "      <td>male : single</td>\n",
       "      <td>...</td>\n",
       "      <td>4</td>\n",
       "      <td>unknown / no property</td>\n",
       "      <td>53</td>\n",
       "      <td>none</td>\n",
       "      <td>for free</td>\n",
       "      <td>2</td>\n",
       "      <td>skilled employee / official</td>\n",
       "      <td>2</td>\n",
       "      <td>none</td>\n",
       "      <td>yes</td>\n",
       "    </tr>\n",
       "  </tbody>\n",
       "</table>\n",
       "<p>5 rows × 21 columns</p>\n",
       "</div>"
      ],
      "text/plain": [
       "   default       conta_corrente  prazo_emprestimo_meses  \\\n",
       "0        0               < 0 DM                       6   \n",
       "1        1    0 <= ... < 200 DM                      48   \n",
       "2        0  no checking account                      12   \n",
       "3        0               < 0 DM                      42   \n",
       "4        1               < 0 DM                      24   \n",
       "\n",
       "                                   historico_credito  \\\n",
       "0  critical account/ other credits existing (not ...   \n",
       "1           existing credits paid back duly till now   \n",
       "2  critical account/ other credits existing (not ...   \n",
       "3           existing credits paid back duly till now   \n",
       "4                    delay in paying off in the past   \n",
       "\n",
       "           proposito_emprestimo  valor_emprestimo  \\\n",
       "0           domestic appliances              1169   \n",
       "1           domestic appliances              5951   \n",
       "2  (vacation - does not exist?)              2096   \n",
       "3              radio/television              7882   \n",
       "4                     car (new)              4870   \n",
       "\n",
       "                    reserva_cc tempo_emprego_atual  taxa_comp_salario  \\\n",
       "0  unknown/ no savings account       .. >= 7 years                  4   \n",
       "1                 ... < 100 DM  1 <= ... < 4 years                  2   \n",
       "2                 ... < 100 DM  4 <= ... < 7 years                  2   \n",
       "3                 ... < 100 DM  4 <= ... < 7 years                  2   \n",
       "4                 ... < 100 DM  1 <= ... < 4 years                  3   \n",
       "\n",
       "                        sexo_est_civil  ... anos_residencia_atual  \\\n",
       "0                        male : single  ...                     4   \n",
       "1  female : divorced/separated/married  ...                     2   \n",
       "2                        male : single  ...                     3   \n",
       "3                        male : single  ...                     4   \n",
       "4                        male : single  ...                     4   \n",
       "\n",
       "                                         propriedade idade  \\\n",
       "0                                        real estate    67   \n",
       "1                                        real estate    22   \n",
       "2                                        real estate    49   \n",
       "3  if not A121 : building society savings agreeme...    45   \n",
       "4                              unknown / no property    53   \n",
       "\n",
       "   outros_planos_financiamento tipo_residencia n_creditos_banco  \\\n",
       "0                         none             own                2   \n",
       "1                         none             own                1   \n",
       "2                         none             own                1   \n",
       "3                         none        for free                1   \n",
       "4                         none        for free                2   \n",
       "\n",
       "                status_emprego n_dependentes  \\\n",
       "0  skilled employee / official             1   \n",
       "1  skilled employee / official             1   \n",
       "2         unskilled - resident             2   \n",
       "3  skilled employee / official             2   \n",
       "4  skilled employee / official             2   \n",
       "\n",
       "                                    telefone trabalhador_estrangeiro  \n",
       "0  yes, registered under the customers name                      yes  \n",
       "1                                       none                     yes  \n",
       "2                                       none                     yes  \n",
       "3                                       none                     yes  \n",
       "4                                       none                     yes  \n",
       "\n",
       "[5 rows x 21 columns]"
      ]
     },
     "execution_count": 2,
     "metadata": {},
     "output_type": "execute_result"
    }
   ],
   "source": [
    "url = 'https://raw.githubusercontent.com/alura-cursos/credit_scoring/main/base_dados_traduzida.csv'\n",
    "df = pd.read_csv(url)\n",
    "df.head()"
   ]
  },
  {
   "cell_type": "code",
   "execution_count": 4,
   "metadata": {},
   "outputs": [
    {
     "name": "stdout",
     "output_type": "stream",
     "text": [
      "<class 'pandas.core.frame.DataFrame'>\n",
      "RangeIndex: 1000 entries, 0 to 999\n",
      "Data columns (total 21 columns):\n",
      " #   Column                       Non-Null Count  Dtype \n",
      "---  ------                       --------------  ----- \n",
      " 0   default                      1000 non-null   int64 \n",
      " 1   conta_corrente               1000 non-null   object\n",
      " 2   prazo_emprestimo_meses       1000 non-null   int64 \n",
      " 3   historico_credito            1000 non-null   object\n",
      " 4   proposito_emprestimo         1000 non-null   object\n",
      " 5   valor_emprestimo             1000 non-null   int64 \n",
      " 6   reserva_cc                   1000 non-null   object\n",
      " 7   tempo_emprego_atual          1000 non-null   object\n",
      " 8   taxa_comp_salario            1000 non-null   int64 \n",
      " 9   sexo_est_civil               1000 non-null   object\n",
      " 10  outros_fiadores              1000 non-null   object\n",
      " 11  anos_residencia_atual        1000 non-null   int64 \n",
      " 12  propriedade                  1000 non-null   object\n",
      " 13  idade                        1000 non-null   int64 \n",
      " 14  outros_planos_financiamento  1000 non-null   object\n",
      " 15  tipo_residencia              1000 non-null   object\n",
      " 16  n_creditos_banco             1000 non-null   int64 \n",
      " 17  status_emprego               1000 non-null   object\n",
      " 18  n_dependentes                1000 non-null   int64 \n",
      " 19  telefone                     1000 non-null   object\n",
      " 20  trabalhador_estrangeiro      1000 non-null   object\n",
      "dtypes: int64(8), object(13)\n",
      "memory usage: 164.2+ KB\n",
      "A base de dados tem 1000 linhas e 21 colunas.\n"
     ]
    }
   ],
   "source": [
    "df.info()\n",
    "print(f'A base de dados tem {df.shape[0]} linhas e {df.shape[1]} colunas.')"
   ]
  },
  {
   "cell_type": "code",
   "execution_count": 6,
   "metadata": {},
   "outputs": [
    {
     "name": "stdout",
     "output_type": "stream",
     "text": [
      "A base tem 0 dados duplicados.\n"
     ]
    }
   ],
   "source": [
    "# checando se temos dados duplicados\n",
    "duplicate = df.duplicated()\n",
    "duplicate = duplicate.sum()\n",
    "\n",
    "print(f'A base tem {duplicate} dados duplicados.')"
   ]
  },
  {
   "cell_type": "code",
   "execution_count": 7,
   "metadata": {},
   "outputs": [
    {
     "data": {
      "text/plain": [
       "default                        0\n",
       "conta_corrente                 0\n",
       "prazo_emprestimo_meses         0\n",
       "historico_credito              0\n",
       "proposito_emprestimo           0\n",
       "valor_emprestimo               0\n",
       "reserva_cc                     0\n",
       "tempo_emprego_atual            0\n",
       "taxa_comp_salario              0\n",
       "sexo_est_civil                 0\n",
       "outros_fiadores                0\n",
       "anos_residencia_atual          0\n",
       "propriedade                    0\n",
       "idade                          0\n",
       "outros_planos_financiamento    0\n",
       "tipo_residencia                0\n",
       "n_creditos_banco               0\n",
       "status_emprego                 0\n",
       "n_dependentes                  0\n",
       "telefone                       0\n",
       "trabalhador_estrangeiro        0\n",
       "dtype: int64"
      ]
     },
     "execution_count": 7,
     "metadata": {},
     "output_type": "execute_result"
    }
   ],
   "source": [
    "# checando se temos valores nulos\n",
    "df.isnull().sum()"
   ]
  },
  {
   "cell_type": "markdown",
   "metadata": {},
   "source": [
    "## 2. Separando as variáveis da base\n",
    "- X: características dos clientes\n",
    "- y: classificação do score\n",
    "\n",
    "Aqui nós podemos observar que a variável `default` é binária e que as demais estão divididas entre categóricas, como a variável `conta_corrente`, e variáveis numéricas discretas, como a `prazo_emprestimo_meses`, por exemplo, que traz, para cada linha, um valor discreto diferente.\n"
   ]
  },
  {
   "cell_type": "code",
   "execution_count": 29,
   "metadata": {},
   "outputs": [],
   "source": [
    "def separando_train_test(df):\n",
    "    \"\"\" A variável a ser predita, y, é chamada de `default`.\"\"\"\n",
    "\n",
    "    # Separando X e y\n",
    "    X = df.drop('default', axis=1).loc[:, :]\n",
    "    print(f'O tamanho de X é {X.shape}')\n",
    "    y = df['default']\n",
    "    print(f'O tamanho de X é {y.shape}')\n",
    "\n",
    "    # separando os dados de treino e teste, em 70% para treino e 30% para teste\n",
    "    SEED = 77 # definimos o seed para que este mesmo split seja replicado sem aleatoriedade\n",
    "    treino_x, teste_x, treino_y, teste_y = train_test_split(X, y, test_size=0.3, random_state=SEED)\n",
    "    print(f'A base de treino possui {treino_x.shape[0]} e de teste {teste_x.shape[0]}')\n",
    "\n",
    "    return treino_x, teste_x, treino_y, teste_y"
   ]
  },
  {
   "cell_type": "markdown",
   "metadata": {},
   "source": [
    "## 3. Tratando os dados: passando categóricos para numéricos\n",
    "- Explorando com info(), temos as seguintes colunas categóricas:\n",
    "```python\n",
    "\n",
    " #   Column                       Non-Null Count  Dtype \n",
    "---  ------                       --------------  ----- \n",
    "\n",
    " 1   conta_corrente               1000 non-null   object\n",
    " 3   historico_credito            1000 non-null   object\n",
    " 4   proposito_emprestimo         1000 non-null   object\n",
    " 6   reserva_cc                   1000 non-null   object\n",
    " 7   tempo_emprego_atual          1000 non-null   object\n",
    " 9   sexo_est_civil               1000 non-null   object\n",
    " 10  outros_fiadores              1000 non-null   object\n",
    " 12  propriedade                  1000 non-null   object\n",
    " 14  outros_planos_financiamento  1000 non-null   object\n",
    " 15  tipo_residencia              1000 non-null   object\n",
    " 17  status_emprego               1000 non-null   object\n",
    " 19  telefone                     1000 non-null   object\n",
    " 20  trabalhador_estrangeiro      1000 non-null   object\n",
    " ```"
   ]
  },
  {
   "cell_type": "code",
   "execution_count": 16,
   "metadata": {},
   "outputs": [
    {
     "data": {
      "text/plain": [
       "['< 0 DM',\n",
       " '0 <= ... < 200 DM',\n",
       " 'no checking account',\n",
       " '>= 200 DM / salary assignments for at least 1 year']"
      ]
     },
     "execution_count": 16,
     "metadata": {},
     "output_type": "execute_result"
    }
   ],
   "source": [
    "cc_var = list(df['conta_corrente'].unique())\n",
    "cc_var"
   ]
  },
  {
   "cell_type": "code",
   "execution_count": 21,
   "metadata": {},
   "outputs": [
    {
     "data": {
      "text/plain": [
       "{'< 0 DM': 1,\n",
       " '0 <= ... < 200 DM': 2,\n",
       " 'no checking account': 3,\n",
       " '>= 200 DM / salary assignments for at least 1 year': 4}"
      ]
     },
     "execution_count": 21,
     "metadata": {},
     "output_type": "execute_result"
    }
   ],
   "source": [
    "cc_dict = {}\n",
    "for i, cc in enumerate(cc_var):\n",
    "    cc_dict[cc] = i+1\n",
    "\n",
    "cc_dict\n"
   ]
  },
  {
   "cell_type": "code",
   "execution_count": 22,
   "metadata": {},
   "outputs": [
    {
     "data": {
      "text/plain": [
       "array([1, 2, 3, 4], dtype=int64)"
      ]
     },
     "execution_count": 22,
     "metadata": {},
     "output_type": "execute_result"
    }
   ],
   "source": [
    "# transformando as strings das caterogias de `conta corrente` para valores numéricos\n",
    "df['conta_corrente'] = df['conta_corrente'].map(cc_dict)\n",
    "df['conta_corrente'].unique()"
   ]
  },
  {
   "cell_type": "markdown",
   "metadata": {},
   "source": [
    "- **Criando uma função para passar os dados `categóricos` para `numéricos`:**"
   ]
  },
  {
   "cell_type": "code",
   "execution_count": 23,
   "metadata": {},
   "outputs": [],
   "source": [
    "def passa_categorico_para_numerico(df:pd.DataFrame, coluna:str):\n",
    "    \"\"\"\n",
    "    Esta função recebe um DataFrame e sua coluna categórica (string) \n",
    "    que será convertida para numérica.\n",
    "    \n",
    "    Retorna: o próprio DataFrame com a coluna já ajustada.\n",
    "    \"\"\"\n",
    "    v_list = list(df[coluna].unique())\n",
    "    v_dict = {}\n",
    "    for i, v in enumerate(v_list):\n",
    "        v_dict[v] = i+1\n",
    "    df[coluna] = df[coluna].map(v_dict)\n",
    "    return df"
   ]
  },
  {
   "cell_type": "code",
   "execution_count": 26,
   "metadata": {},
   "outputs": [
    {
     "data": {
      "text/html": [
       "<div>\n",
       "<style scoped>\n",
       "    .dataframe tbody tr th:only-of-type {\n",
       "        vertical-align: middle;\n",
       "    }\n",
       "\n",
       "    .dataframe tbody tr th {\n",
       "        vertical-align: top;\n",
       "    }\n",
       "\n",
       "    .dataframe thead th {\n",
       "        text-align: right;\n",
       "    }\n",
       "</style>\n",
       "<table border=\"1\" class=\"dataframe\">\n",
       "  <thead>\n",
       "    <tr style=\"text-align: right;\">\n",
       "      <th></th>\n",
       "      <th>default</th>\n",
       "      <th>conta_corrente</th>\n",
       "      <th>prazo_emprestimo_meses</th>\n",
       "      <th>historico_credito</th>\n",
       "      <th>proposito_emprestimo</th>\n",
       "      <th>valor_emprestimo</th>\n",
       "      <th>reserva_cc</th>\n",
       "      <th>tempo_emprego_atual</th>\n",
       "      <th>taxa_comp_salario</th>\n",
       "      <th>sexo_est_civil</th>\n",
       "      <th>...</th>\n",
       "      <th>anos_residencia_atual</th>\n",
       "      <th>propriedade</th>\n",
       "      <th>idade</th>\n",
       "      <th>outros_planos_financiamento</th>\n",
       "      <th>tipo_residencia</th>\n",
       "      <th>n_creditos_banco</th>\n",
       "      <th>status_emprego</th>\n",
       "      <th>n_dependentes</th>\n",
       "      <th>telefone</th>\n",
       "      <th>trabalhador_estrangeiro</th>\n",
       "    </tr>\n",
       "  </thead>\n",
       "  <tbody>\n",
       "    <tr>\n",
       "      <th>0</th>\n",
       "      <td>0</td>\n",
       "      <td>1</td>\n",
       "      <td>6</td>\n",
       "      <td>critical account/ other credits existing (not ...</td>\n",
       "      <td>domestic appliances</td>\n",
       "      <td>1169</td>\n",
       "      <td>unknown/ no savings account</td>\n",
       "      <td>.. &gt;= 7 years</td>\n",
       "      <td>4</td>\n",
       "      <td>male : single</td>\n",
       "      <td>...</td>\n",
       "      <td>4</td>\n",
       "      <td>real estate</td>\n",
       "      <td>67</td>\n",
       "      <td>none</td>\n",
       "      <td>own</td>\n",
       "      <td>2</td>\n",
       "      <td>skilled employee / official</td>\n",
       "      <td>1</td>\n",
       "      <td>yes, registered under the customers name</td>\n",
       "      <td>yes</td>\n",
       "    </tr>\n",
       "    <tr>\n",
       "      <th>1</th>\n",
       "      <td>1</td>\n",
       "      <td>2</td>\n",
       "      <td>48</td>\n",
       "      <td>existing credits paid back duly till now</td>\n",
       "      <td>domestic appliances</td>\n",
       "      <td>5951</td>\n",
       "      <td>... &lt; 100 DM</td>\n",
       "      <td>1 &lt;= ... &lt; 4 years</td>\n",
       "      <td>2</td>\n",
       "      <td>female : divorced/separated/married</td>\n",
       "      <td>...</td>\n",
       "      <td>2</td>\n",
       "      <td>real estate</td>\n",
       "      <td>22</td>\n",
       "      <td>none</td>\n",
       "      <td>own</td>\n",
       "      <td>1</td>\n",
       "      <td>skilled employee / official</td>\n",
       "      <td>1</td>\n",
       "      <td>none</td>\n",
       "      <td>yes</td>\n",
       "    </tr>\n",
       "  </tbody>\n",
       "</table>\n",
       "<p>2 rows × 21 columns</p>\n",
       "</div>"
      ],
      "text/plain": [
       "   default  conta_corrente  prazo_emprestimo_meses  \\\n",
       "0        0               1                       6   \n",
       "1        1               2                      48   \n",
       "\n",
       "                                   historico_credito proposito_emprestimo  \\\n",
       "0  critical account/ other credits existing (not ...  domestic appliances   \n",
       "1           existing credits paid back duly till now  domestic appliances   \n",
       "\n",
       "   valor_emprestimo                   reserva_cc tempo_emprego_atual  \\\n",
       "0              1169  unknown/ no savings account       .. >= 7 years   \n",
       "1              5951                 ... < 100 DM  1 <= ... < 4 years   \n",
       "\n",
       "   taxa_comp_salario                       sexo_est_civil  ...  \\\n",
       "0                  4                        male : single  ...   \n",
       "1                  2  female : divorced/separated/married  ...   \n",
       "\n",
       "  anos_residencia_atual  propriedade idade  outros_planos_financiamento  \\\n",
       "0                     4  real estate    67                         none   \n",
       "1                     2  real estate    22                         none   \n",
       "\n",
       "  tipo_residencia n_creditos_banco               status_emprego n_dependentes  \\\n",
       "0             own                2  skilled employee / official             1   \n",
       "1             own                1  skilled employee / official             1   \n",
       "\n",
       "                                    telefone trabalhador_estrangeiro  \n",
       "0  yes, registered under the customers name                      yes  \n",
       "1                                       none                     yes  \n",
       "\n",
       "[2 rows x 21 columns]"
      ]
     },
     "execution_count": 26,
     "metadata": {},
     "output_type": "execute_result"
    }
   ],
   "source": [
    "df.head(2)"
   ]
  },
  {
   "cell_type": "code",
   "execution_count": 27,
   "metadata": {},
   "outputs": [
    {
     "data": {
      "text/html": [
       "<div>\n",
       "<style scoped>\n",
       "    .dataframe tbody tr th:only-of-type {\n",
       "        vertical-align: middle;\n",
       "    }\n",
       "\n",
       "    .dataframe tbody tr th {\n",
       "        vertical-align: top;\n",
       "    }\n",
       "\n",
       "    .dataframe thead th {\n",
       "        text-align: right;\n",
       "    }\n",
       "</style>\n",
       "<table border=\"1\" class=\"dataframe\">\n",
       "  <thead>\n",
       "    <tr style=\"text-align: right;\">\n",
       "      <th></th>\n",
       "      <th>default</th>\n",
       "      <th>conta_corrente</th>\n",
       "      <th>prazo_emprestimo_meses</th>\n",
       "      <th>historico_credito</th>\n",
       "      <th>proposito_emprestimo</th>\n",
       "      <th>valor_emprestimo</th>\n",
       "      <th>reserva_cc</th>\n",
       "      <th>tempo_emprego_atual</th>\n",
       "      <th>taxa_comp_salario</th>\n",
       "      <th>sexo_est_civil</th>\n",
       "      <th>...</th>\n",
       "      <th>anos_residencia_atual</th>\n",
       "      <th>propriedade</th>\n",
       "      <th>idade</th>\n",
       "      <th>outros_planos_financiamento</th>\n",
       "      <th>tipo_residencia</th>\n",
       "      <th>n_creditos_banco</th>\n",
       "      <th>status_emprego</th>\n",
       "      <th>n_dependentes</th>\n",
       "      <th>telefone</th>\n",
       "      <th>trabalhador_estrangeiro</th>\n",
       "    </tr>\n",
       "  </thead>\n",
       "  <tbody>\n",
       "    <tr>\n",
       "      <th>0</th>\n",
       "      <td>0</td>\n",
       "      <td>1</td>\n",
       "      <td>6</td>\n",
       "      <td>1</td>\n",
       "      <td>1</td>\n",
       "      <td>1169</td>\n",
       "      <td>1</td>\n",
       "      <td>1</td>\n",
       "      <td>4</td>\n",
       "      <td>1</td>\n",
       "      <td>...</td>\n",
       "      <td>4</td>\n",
       "      <td>1</td>\n",
       "      <td>67</td>\n",
       "      <td>1</td>\n",
       "      <td>1</td>\n",
       "      <td>2</td>\n",
       "      <td>1</td>\n",
       "      <td>1</td>\n",
       "      <td>1</td>\n",
       "      <td>1</td>\n",
       "    </tr>\n",
       "    <tr>\n",
       "      <th>1</th>\n",
       "      <td>1</td>\n",
       "      <td>2</td>\n",
       "      <td>48</td>\n",
       "      <td>2</td>\n",
       "      <td>1</td>\n",
       "      <td>5951</td>\n",
       "      <td>2</td>\n",
       "      <td>2</td>\n",
       "      <td>2</td>\n",
       "      <td>2</td>\n",
       "      <td>...</td>\n",
       "      <td>2</td>\n",
       "      <td>1</td>\n",
       "      <td>22</td>\n",
       "      <td>1</td>\n",
       "      <td>1</td>\n",
       "      <td>1</td>\n",
       "      <td>1</td>\n",
       "      <td>1</td>\n",
       "      <td>2</td>\n",
       "      <td>1</td>\n",
       "    </tr>\n",
       "    <tr>\n",
       "      <th>2</th>\n",
       "      <td>0</td>\n",
       "      <td>3</td>\n",
       "      <td>12</td>\n",
       "      <td>1</td>\n",
       "      <td>2</td>\n",
       "      <td>2096</td>\n",
       "      <td>2</td>\n",
       "      <td>3</td>\n",
       "      <td>2</td>\n",
       "      <td>1</td>\n",
       "      <td>...</td>\n",
       "      <td>3</td>\n",
       "      <td>1</td>\n",
       "      <td>49</td>\n",
       "      <td>1</td>\n",
       "      <td>1</td>\n",
       "      <td>1</td>\n",
       "      <td>2</td>\n",
       "      <td>2</td>\n",
       "      <td>2</td>\n",
       "      <td>1</td>\n",
       "    </tr>\n",
       "    <tr>\n",
       "      <th>3</th>\n",
       "      <td>0</td>\n",
       "      <td>1</td>\n",
       "      <td>42</td>\n",
       "      <td>2</td>\n",
       "      <td>3</td>\n",
       "      <td>7882</td>\n",
       "      <td>2</td>\n",
       "      <td>3</td>\n",
       "      <td>2</td>\n",
       "      <td>1</td>\n",
       "      <td>...</td>\n",
       "      <td>4</td>\n",
       "      <td>2</td>\n",
       "      <td>45</td>\n",
       "      <td>1</td>\n",
       "      <td>2</td>\n",
       "      <td>1</td>\n",
       "      <td>1</td>\n",
       "      <td>2</td>\n",
       "      <td>2</td>\n",
       "      <td>1</td>\n",
       "    </tr>\n",
       "    <tr>\n",
       "      <th>4</th>\n",
       "      <td>1</td>\n",
       "      <td>1</td>\n",
       "      <td>24</td>\n",
       "      <td>3</td>\n",
       "      <td>4</td>\n",
       "      <td>4870</td>\n",
       "      <td>2</td>\n",
       "      <td>2</td>\n",
       "      <td>3</td>\n",
       "      <td>1</td>\n",
       "      <td>...</td>\n",
       "      <td>4</td>\n",
       "      <td>3</td>\n",
       "      <td>53</td>\n",
       "      <td>1</td>\n",
       "      <td>2</td>\n",
       "      <td>2</td>\n",
       "      <td>1</td>\n",
       "      <td>2</td>\n",
       "      <td>2</td>\n",
       "      <td>1</td>\n",
       "    </tr>\n",
       "  </tbody>\n",
       "</table>\n",
       "<p>5 rows × 21 columns</p>\n",
       "</div>"
      ],
      "text/plain": [
       "   default  conta_corrente  prazo_emprestimo_meses  historico_credito  \\\n",
       "0        0               1                       6                  1   \n",
       "1        1               2                      48                  2   \n",
       "2        0               3                      12                  1   \n",
       "3        0               1                      42                  2   \n",
       "4        1               1                      24                  3   \n",
       "\n",
       "   proposito_emprestimo  valor_emprestimo  reserva_cc  tempo_emprego_atual  \\\n",
       "0                     1              1169           1                    1   \n",
       "1                     1              5951           2                    2   \n",
       "2                     2              2096           2                    3   \n",
       "3                     3              7882           2                    3   \n",
       "4                     4              4870           2                    2   \n",
       "\n",
       "   taxa_comp_salario  sexo_est_civil  ...  anos_residencia_atual  propriedade  \\\n",
       "0                  4               1  ...                      4            1   \n",
       "1                  2               2  ...                      2            1   \n",
       "2                  2               1  ...                      3            1   \n",
       "3                  2               1  ...                      4            2   \n",
       "4                  3               1  ...                      4            3   \n",
       "\n",
       "   idade  outros_planos_financiamento  tipo_residencia  n_creditos_banco  \\\n",
       "0     67                            1                1                 2   \n",
       "1     22                            1                1                 1   \n",
       "2     49                            1                1                 1   \n",
       "3     45                            1                2                 1   \n",
       "4     53                            1                2                 2   \n",
       "\n",
       "   status_emprego  n_dependentes  telefone  trabalhador_estrangeiro  \n",
       "0               1              1         1                        1  \n",
       "1               1              1         2                        1  \n",
       "2               2              2         2                        1  \n",
       "3               1              2         2                        1  \n",
       "4               1              2         2                        1  \n",
       "\n",
       "[5 rows x 21 columns]"
      ]
     },
     "execution_count": 27,
     "metadata": {},
     "output_type": "execute_result"
    }
   ],
   "source": [
    "# Ajustando as demais colunas da base da dados\n",
    "dados_categoricos =  \"\"\"historico_credito\n",
    "                        proposito_emprestimo\n",
    "                        reserva_cc \n",
    "                        tempo_emprego_atual\n",
    "                        sexo_est_civil   \n",
    "                        outros_fiadores  \n",
    "                        propriedade     \n",
    "                        outros_planos_financiamento  \n",
    "                        tipo_residencia     \n",
    "                        status_emprego  \n",
    "                        telefone\n",
    "                        trabalhador_estrangeiro\"\"\"\n",
    "\n",
    "dados_categoricos = dados_categoricos.split()\n",
    "for coluna in dados_categoricos:\n",
    "    df = passa_categorico_para_numerico(df, coluna)\n",
    "\n",
    "df.head()"
   ]
  },
  {
   "cell_type": "code",
   "execution_count": 28,
   "metadata": {},
   "outputs": [
    {
     "name": "stdout",
     "output_type": "stream",
     "text": [
      "<class 'pandas.core.frame.DataFrame'>\n",
      "RangeIndex: 1000 entries, 0 to 999\n",
      "Data columns (total 21 columns):\n",
      " #   Column                       Non-Null Count  Dtype\n",
      "---  ------                       --------------  -----\n",
      " 0   default                      1000 non-null   int64\n",
      " 1   conta_corrente               1000 non-null   int64\n",
      " 2   prazo_emprestimo_meses       1000 non-null   int64\n",
      " 3   historico_credito            1000 non-null   int64\n",
      " 4   proposito_emprestimo         1000 non-null   int64\n",
      " 5   valor_emprestimo             1000 non-null   int64\n",
      " 6   reserva_cc                   1000 non-null   int64\n",
      " 7   tempo_emprego_atual          1000 non-null   int64\n",
      " 8   taxa_comp_salario            1000 non-null   int64\n",
      " 9   sexo_est_civil               1000 non-null   int64\n",
      " 10  outros_fiadores              1000 non-null   int64\n",
      " 11  anos_residencia_atual        1000 non-null   int64\n",
      " 12  propriedade                  1000 non-null   int64\n",
      " 13  idade                        1000 non-null   int64\n",
      " 14  outros_planos_financiamento  1000 non-null   int64\n",
      " 15  tipo_residencia              1000 non-null   int64\n",
      " 16  n_creditos_banco             1000 non-null   int64\n",
      " 17  status_emprego               1000 non-null   int64\n",
      " 18  n_dependentes                1000 non-null   int64\n",
      " 19  telefone                     1000 non-null   int64\n",
      " 20  trabalhador_estrangeiro      1000 non-null   int64\n",
      "dtypes: int64(21)\n",
      "memory usage: 164.2 KB\n"
     ]
    }
   ],
   "source": [
    "df.info()"
   ]
  },
  {
   "cell_type": "markdown",
   "metadata": {},
   "source": [
    "- **SEPARANDO A BASE EM X e y:**"
   ]
  },
  {
   "cell_type": "code",
   "execution_count": 30,
   "metadata": {},
   "outputs": [
    {
     "name": "stdout",
     "output_type": "stream",
     "text": [
      "O tamanho de X é (1000, 20)\n",
      "O tamanho de X é (1000,)\n",
      "A base de treino possui 700 e de teste 300\n"
     ]
    }
   ],
   "source": [
    "treino_x, teste_x, treino_y, teste_y = separando_train_test(df)"
   ]
  },
  {
   "cell_type": "markdown",
   "metadata": {},
   "source": [
    "## 4. Modelagem: `REGRESSÃO LOGÍSTICA`\n",
    "- Iniciando o ajuste dos dados no modelo de forma simples e verificando a acurácia:"
   ]
  },
  {
   "cell_type": "code",
   "execution_count": 32,
   "metadata": {},
   "outputs": [
    {
     "name": "stdout",
     "output_type": "stream",
     "text": [
      "acurácia: 0.75\n"
     ]
    }
   ],
   "source": [
    "model = LogisticRegression(max_iter=1000)\n",
    "model.fit(treino_x, treino_y)\n",
    "score = model.score(treino_x, treino_y)\n",
    "\n",
    "print(f'acurácia: {score:.2f}')"
   ]
  },
  {
   "cell_type": "markdown",
   "metadata": {},
   "source": [
    "- **Verificando as métricas (individualmente) do modelo:**"
   ]
  },
  {
   "cell_type": "code",
   "execution_count": 39,
   "metadata": {},
   "outputs": [
    {
     "name": "stdout",
     "output_type": "stream",
     "text": [
      "Acurácia: 77.333333%\n",
      "F1: 54.054054%\n",
      "Recall: 46.511628%\n",
      "Area Under the Curve: 68.115627%\n"
     ]
    }
   ],
   "source": [
    "predito_y = model.predict(teste_x)\n",
    "acuracia = accuracy_score(teste_y, predito_y)\n",
    "f1 = f1_score(teste_y, predito_y)\n",
    "recall = recall_score(teste_y, predito_y)\n",
    "auc_score = roc_auc_score (teste_y, predito_y)\n",
    "\n",
    "print(f'Acurácia: {acuracia*100:2f}%')\n",
    "print(f'F1: {f1*100:2f}%')\n",
    "print(f'Recall: {recall*100:2f}%')\n",
    "print(f'Area Under the Curve: {auc_score*100:2f}%')"
   ]
  },
  {
   "cell_type": "code",
   "execution_count": 42,
   "metadata": {},
   "outputs": [
    {
     "name": "stderr",
     "output_type": "stream",
     "text": [
      "c:\\Users\\ananda.coelho\\Anaconda3\\envs\\inadimplencia\\lib\\site-packages\\sklearn\\utils\\deprecation.py:87: FutureWarning: Function plot_confusion_matrix is deprecated; Function `plot_confusion_matrix` is deprecated in 1.0 and will be removed in 1.2. Use one of the class methods: ConfusionMatrixDisplay.from_predictions or ConfusionMatrixDisplay.from_estimator.\n",
      "  warnings.warn(msg, category=FutureWarning)\n"
     ]
    },
    {
     "data": {
      "image/png": "[encoded data removed]",
      "text/plain": [
       "<Figure size 432x288 with 2 Axes>"
      ]
     },
     "metadata": {
      "needs_background": "light"
     },
     "output_type": "display_data"
    }
   ],
   "source": [
    "# matriz de confusão para verificarmos como o modelo está performando com FP e FN\n",
    "mc = plot_confusion_matrix(model, teste_x, teste_y, cmap='Blues', values_format='.3g')"
   ]
  },
  {
   "cell_type": "markdown",
   "metadata": {},
   "source": [
    "**Podemos observar que o modelo consegue identificar bem os labels = 0. Mas erra muito os labels = 1**\n",
    "- True positives (era 0 e o modelo acertou que era 0): cliente que paga bem, não é inadimplente\n",
    "- False positive (era 1 e o modelo chutou 0): o modelo diz que é um bom pagados mas não é, o cliente é inadimplente\n",
    "- False negative (era 0 mas o modelo chutou 1): o cliente é um bom pagador mas o modelo classificou como inadimplente\n",
    "- True negative (era 1 e o modelo acertou como 1): classificou o cliente inadimplente corretamente\n",
    "\n",
    "**MÉTRICAS DERIVADAS DA MATRIZ DE CONFUSÃO**\n",
    "1. Precisão: Proporção de predições corretas de uma categoria em relação a todas as predições desta categoria.\n",
    "\n",
    "    $Precisão$ = $VP / (VP + FP)$\n",
    "\n",
    "2. Recall: Proporção de predições corretas de categoria alvo.\n",
    "\n",
    "    $Recall$ = $VP / (VP + FN)$\n",
    "\n",
    "3. F1-Score: Média harmônica entre precisão e recall.\n",
    "\n",
    "    $F1 - score$ = $2 * (Precisão * Recall) / (Precisão + Recall)$\n",
    "\n",
    "4. support: é a quantidade absoluta de casos encontrados em cada categoria\n"
   ]
  },
  {
   "cell_type": "code",
   "execution_count": 46,
   "metadata": {},
   "outputs": [
    {
     "name": "stdout",
     "output_type": "stream",
     "text": [
      "              precision    recall  f1-score   support\n",
      "\n",
      "           0       0.81      0.90      0.85       214\n",
      "           1       0.65      0.47      0.54        86\n",
      "\n",
      "    accuracy                           0.77       300\n",
      "   macro avg       0.73      0.68      0.70       300\n",
      "weighted avg       0.76      0.77      0.76       300\n",
      "\n"
     ]
    }
   ],
   "source": [
    "print(classification_report(teste_y, predito_y))"
   ]
  },
  {
   "cell_type": "code",
   "execution_count": 49,
   "metadata": {},
   "outputs": [
    {
     "name": "stdout",
     "output_type": "stream",
     "text": [
      "area under the curve: 0.76\n"
     ]
    }
   ],
   "source": [
    "predito_y_prob = model.predict_proba(teste_x)[: ,1]\n",
    "\n",
    "# taxa de falsos positivos = tfp\n",
    "# taxa de verdadeiros positivos = tvp\n",
    "\n",
    "tfp, tvp, limit = roc_curve(teste_y, predito_y_prob)\n",
    "print(f'area under the curve: {roc_auc_score(teste_y, predito_y_prob):.2f}')"
   ]
  },
  {
   "cell_type": "code",
   "execution_count": 50,
   "metadata": {},
   "outputs": [
    {
     "data": {
      "image/png": "[encoded data removed]",
      "text/plain": [
       "<Figure size 360x360 with 1 Axes>"
      ]
     },
     "metadata": {
      "needs_background": "light"
     },
     "output_type": "display_data"
    }
   ],
   "source": [
    "plt.subplots(1, figsize=(5,5))\n",
    "plt.title('Curva ROC')\n",
    "plt.plot(tfp, tvp)\n",
    "plt.plot([0, 1], ls=\"--\", c = 'red') #plotando linha pontilhada guia para regressao aleatoria\n",
    "plt.plot([0, 0], [1, 0], ls=\"--\", c = 'green'), plt.plot([1, 1], ls=\"--\", c = 'green') #plotando linha pontilhada guia para regressao perfeita\n",
    "plt.ylabel('Sensibilidade')\n",
    "plt.xlabel('Especificidade')\n",
    "plt.show()"
   ]
  },
  {
   "cell_type": "markdown",
   "metadata": {},
   "source": [
    "$Especificidade = VN / (VN + FP)$\n",
    "-  Já a especificidade mede a taxa em que a categoria 0 foi, de maneira errada, classificada como 1\n",
    "\n",
    "$Sensibilidade = VP (VP + FN)$\n",
    "- A sensibilidade indica a taxa de casos em que a categoria alvo, ou seja, a categoria 1, foi classificada corretamente.\n",
    "\n",
    "- **Objetivo: maximizar a `taxa de verdadeiros positivos` e vai minimizar a minha `taxa de falsos positivos`. buscamos esse trade-off, nós queremos maximizar um enquanto minimizamos o outro consequentemente**\n",
    "\n",
    "- Quantifica a Curva ROC através da área sob esta curva\n",
    "\n",
    "    - Convenção Estatística:\n",
    "\n",
    "       - área < 0,7: baixa discriminiação\n",
    "       - 0,7 ≤ área < 0,8: discriminação aceitável\n",
    "       - 0,8 ≤ área < 0,9: discriminação excelente\n",
    "       - área > 0,9: discriminação excepcional"
   ]
  },
  {
   "cell_type": "code",
   "execution_count": 51,
   "metadata": {},
   "outputs": [
    {
     "name": "stdout",
     "output_type": "stream",
     "text": [
      "Com a métrica ROC de 0.76, temos uma discriminação aceitável.\n"
     ]
    }
   ],
   "source": [
    "print(f'Com a métrica ROC de {roc_auc_score(teste_y, predito_y_prob):.2f}, temos uma discriminação aceitável.')"
   ]
  },
  {
   "cell_type": "markdown",
   "metadata": {},
   "source": [
    "#### 4.1 Análise Descritiva"
   ]
  },
  {
   "cell_type": "code",
   "execution_count": 54,
   "metadata": {},
   "outputs": [
    {
     "data": {
      "text/html": [
       "<div>\n",
       "<style scoped>\n",
       "    .dataframe tbody tr th:only-of-type {\n",
       "        vertical-align: middle;\n",
       "    }\n",
       "\n",
       "    .dataframe tbody tr th {\n",
       "        vertical-align: top;\n",
       "    }\n",
       "\n",
       "    .dataframe thead th {\n",
       "        text-align: right;\n",
       "    }\n",
       "</style>\n",
       "<table border=\"1\" class=\"dataframe\">\n",
       "  <thead>\n",
       "    <tr style=\"text-align: right;\">\n",
       "      <th></th>\n",
       "      <th>idade</th>\n",
       "      <th>prazo_emprestimo_meses</th>\n",
       "      <th>valor_emprestimo</th>\n",
       "      <th>taxa_comp_salario</th>\n",
       "      <th>anos_residencia_atual</th>\n",
       "      <th>n_creditos_banco</th>\n",
       "      <th>n_dependentes</th>\n",
       "    </tr>\n",
       "  </thead>\n",
       "  <tbody>\n",
       "    <tr>\n",
       "      <th>count</th>\n",
       "      <td>1000.000000</td>\n",
       "      <td>1000.000000</td>\n",
       "      <td>1000.000000</td>\n",
       "      <td>1000.000000</td>\n",
       "      <td>1000.000000</td>\n",
       "      <td>1000.000000</td>\n",
       "      <td>1000.000000</td>\n",
       "    </tr>\n",
       "    <tr>\n",
       "      <th>mean</th>\n",
       "      <td>35.546000</td>\n",
       "      <td>20.903000</td>\n",
       "      <td>3271.258000</td>\n",
       "      <td>2.973000</td>\n",
       "      <td>2.845000</td>\n",
       "      <td>1.407000</td>\n",
       "      <td>1.155000</td>\n",
       "    </tr>\n",
       "    <tr>\n",
       "      <th>std</th>\n",
       "      <td>11.375469</td>\n",
       "      <td>12.058814</td>\n",
       "      <td>2822.736876</td>\n",
       "      <td>1.118715</td>\n",
       "      <td>1.103718</td>\n",
       "      <td>0.577654</td>\n",
       "      <td>0.362086</td>\n",
       "    </tr>\n",
       "    <tr>\n",
       "      <th>min</th>\n",
       "      <td>19.000000</td>\n",
       "      <td>4.000000</td>\n",
       "      <td>250.000000</td>\n",
       "      <td>1.000000</td>\n",
       "      <td>1.000000</td>\n",
       "      <td>1.000000</td>\n",
       "      <td>1.000000</td>\n",
       "    </tr>\n",
       "    <tr>\n",
       "      <th>25%</th>\n",
       "      <td>27.000000</td>\n",
       "      <td>12.000000</td>\n",
       "      <td>1365.500000</td>\n",
       "      <td>2.000000</td>\n",
       "      <td>2.000000</td>\n",
       "      <td>1.000000</td>\n",
       "      <td>1.000000</td>\n",
       "    </tr>\n",
       "    <tr>\n",
       "      <th>50%</th>\n",
       "      <td>33.000000</td>\n",
       "      <td>18.000000</td>\n",
       "      <td>2319.500000</td>\n",
       "      <td>3.000000</td>\n",
       "      <td>3.000000</td>\n",
       "      <td>1.000000</td>\n",
       "      <td>1.000000</td>\n",
       "    </tr>\n",
       "    <tr>\n",
       "      <th>75%</th>\n",
       "      <td>42.000000</td>\n",
       "      <td>24.000000</td>\n",
       "      <td>3972.250000</td>\n",
       "      <td>4.000000</td>\n",
       "      <td>4.000000</td>\n",
       "      <td>2.000000</td>\n",
       "      <td>1.000000</td>\n",
       "    </tr>\n",
       "    <tr>\n",
       "      <th>max</th>\n",
       "      <td>75.000000</td>\n",
       "      <td>72.000000</td>\n",
       "      <td>18424.000000</td>\n",
       "      <td>4.000000</td>\n",
       "      <td>4.000000</td>\n",
       "      <td>4.000000</td>\n",
       "      <td>2.000000</td>\n",
       "    </tr>\n",
       "  </tbody>\n",
       "</table>\n",
       "</div>"
      ],
      "text/plain": [
       "             idade  prazo_emprestimo_meses  valor_emprestimo  \\\n",
       "count  1000.000000             1000.000000       1000.000000   \n",
       "mean     35.546000               20.903000       3271.258000   \n",
       "std      11.375469               12.058814       2822.736876   \n",
       "min      19.000000                4.000000        250.000000   \n",
       "25%      27.000000               12.000000       1365.500000   \n",
       "50%      33.000000               18.000000       2319.500000   \n",
       "75%      42.000000               24.000000       3972.250000   \n",
       "max      75.000000               72.000000      18424.000000   \n",
       "\n",
       "       taxa_comp_salario  anos_residencia_atual  n_creditos_banco  \\\n",
       "count        1000.000000            1000.000000       1000.000000   \n",
       "mean            2.973000               2.845000          1.407000   \n",
       "std             1.118715               1.103718          0.577654   \n",
       "min             1.000000               1.000000          1.000000   \n",
       "25%             2.000000               2.000000          1.000000   \n",
       "50%             3.000000               3.000000          1.000000   \n",
       "75%             4.000000               4.000000          2.000000   \n",
       "max             4.000000               4.000000          4.000000   \n",
       "\n",
       "       n_dependentes  \n",
       "count    1000.000000  \n",
       "mean        1.155000  \n",
       "std         0.362086  \n",
       "min         1.000000  \n",
       "25%         1.000000  \n",
       "50%         1.000000  \n",
       "75%         1.000000  \n",
       "max         2.000000  "
      ]
     },
     "execution_count": 54,
     "metadata": {},
     "output_type": "execute_result"
    }
   ],
   "source": [
    "variaveis_analise = ['idade', 'prazo_emprestimo_meses', 'valor_emprestimo', 'taxa_comp_salario', 'anos_residencia_atual', 'n_creditos_banco', 'n_dependentes']\n",
    "df[variaveis_analise].describe()"
   ]
  },
  {
   "cell_type": "markdown",
   "metadata": {},
   "source": [
    "**Analisando a Variável `sexo_est_civil`:**\n",
    "- Homem: 1,3,4\n",
    "- Mulher: 2"
   ]
  },
  {
   "cell_type": "code",
   "execution_count": 57,
   "metadata": {},
   "outputs": [
    {
     "data": {
      "text/html": [
       "<div>\n",
       "<style scoped>\n",
       "    .dataframe tbody tr th:only-of-type {\n",
       "        vertical-align: middle;\n",
       "    }\n",
       "\n",
       "    .dataframe tbody tr th {\n",
       "        vertical-align: top;\n",
       "    }\n",
       "\n",
       "    .dataframe thead th {\n",
       "        text-align: right;\n",
       "    }\n",
       "</style>\n",
       "<table border=\"1\" class=\"dataframe\">\n",
       "  <thead>\n",
       "    <tr style=\"text-align: right;\">\n",
       "      <th></th>\n",
       "      <th>sexo_est_civil</th>\n",
       "    </tr>\n",
       "  </thead>\n",
       "  <tbody>\n",
       "    <tr>\n",
       "      <th>H</th>\n",
       "      <td>548</td>\n",
       "    </tr>\n",
       "    <tr>\n",
       "      <th>M</th>\n",
       "      <td>310</td>\n",
       "    </tr>\n",
       "    <tr>\n",
       "      <th>H</th>\n",
       "      <td>92</td>\n",
       "    </tr>\n",
       "    <tr>\n",
       "      <th>H</th>\n",
       "      <td>50</td>\n",
       "    </tr>\n",
       "  </tbody>\n",
       "</table>\n",
       "</div>"
      ],
      "text/plain": [
       "   sexo_est_civil\n",
       "H             548\n",
       "M             310\n",
       "H              92\n",
       "H              50"
      ]
     },
     "execution_count": 57,
     "metadata": {},
     "output_type": "execute_result"
    }
   ],
   "source": [
    "pd.DataFrame(df['sexo_est_civil'].value_counts()).rename(index={1:'H', 3:'H', 4:'H', 2:'M'})"
   ]
  },
  {
   "cell_type": "code",
   "execution_count": 60,
   "metadata": {},
   "outputs": [
    {
     "data": {
      "text/html": [
       "<div>\n",
       "<style scoped>\n",
       "    .dataframe tbody tr th:only-of-type {\n",
       "        vertical-align: middle;\n",
       "    }\n",
       "\n",
       "    .dataframe tbody tr th {\n",
       "        vertical-align: top;\n",
       "    }\n",
       "\n",
       "    .dataframe thead th {\n",
       "        text-align: right;\n",
       "    }\n",
       "</style>\n",
       "<table border=\"1\" class=\"dataframe\">\n",
       "  <thead>\n",
       "    <tr style=\"text-align: right;\">\n",
       "      <th></th>\n",
       "      <th>sexo_est_civil</th>\n",
       "    </tr>\n",
       "    <tr>\n",
       "      <th>index</th>\n",
       "      <th></th>\n",
       "    </tr>\n",
       "  </thead>\n",
       "  <tbody>\n",
       "    <tr>\n",
       "      <th>H</th>\n",
       "      <td>690</td>\n",
       "    </tr>\n",
       "    <tr>\n",
       "      <th>M</th>\n",
       "      <td>310</td>\n",
       "    </tr>\n",
       "  </tbody>\n",
       "</table>\n",
       "</div>"
      ],
      "text/plain": [
       "       sexo_est_civil\n",
       "index                \n",
       "H                 690\n",
       "M                 310"
      ]
     },
     "execution_count": 60,
     "metadata": {},
     "output_type": "execute_result"
    }
   ],
   "source": [
    "pd.DataFrame(df['sexo_est_civil'].value_counts()).rename(index={1:'H', 3:'H', 4:'H', 2:'M'}).reset_index().groupby('index').sum()"
   ]
  },
  {
   "cell_type": "code",
   "execution_count": 58,
   "metadata": {},
   "outputs": [
    {
     "data": {
      "text/html": [
       "<div>\n",
       "<style scoped>\n",
       "    .dataframe tbody tr th:only-of-type {\n",
       "        vertical-align: middle;\n",
       "    }\n",
       "\n",
       "    .dataframe tbody tr th {\n",
       "        vertical-align: top;\n",
       "    }\n",
       "\n",
       "    .dataframe thead th {\n",
       "        text-align: right;\n",
       "    }\n",
       "</style>\n",
       "<table border=\"1\" class=\"dataframe\">\n",
       "  <thead>\n",
       "    <tr style=\"text-align: right;\">\n",
       "      <th></th>\n",
       "      <th>default</th>\n",
       "    </tr>\n",
       "  </thead>\n",
       "  <tbody>\n",
       "    <tr>\n",
       "      <th>negado</th>\n",
       "      <td>700</td>\n",
       "    </tr>\n",
       "    <tr>\n",
       "      <th>concedido</th>\n",
       "      <td>300</td>\n",
       "    </tr>\n",
       "  </tbody>\n",
       "</table>\n",
       "</div>"
      ],
      "text/plain": [
       "           default\n",
       "negado         700\n",
       "concedido      300"
      ]
     },
     "execution_count": 58,
     "metadata": {},
     "output_type": "execute_result"
    }
   ],
   "source": [
    "pd.DataFrame(df['default'].value_counts()).rename(index={0:'negado',1:'concedido'})"
   ]
  },
  {
   "cell_type": "markdown",
   "metadata": {},
   "source": [
    "- **Avaliando as distribuições das variáveis:**"
   ]
  },
  {
   "cell_type": "code",
   "execution_count": 65,
   "metadata": {},
   "outputs": [
    {
     "data": {
      "image/png": "[encoded data removed]",
      "text/plain": [
       "<Figure size 2160x720 with 3 Axes>"
      ]
     },
     "metadata": {
      "needs_background": "light"
     },
     "output_type": "display_data"
    }
   ],
   "source": [
    "hist = ['sexo_est_civil','prazo_emprestimo_meses','default']\n",
    "# criando tuplas das colunas de histograma \n",
    "hist = list(enumerate(hist))\n",
    "# plotando todas as colunas\n",
    "plt.figure(figsize=(30,10))\n",
    "plt.title('CONTAGEM DE CADA LABEL')\n",
    "for i in hist: \n",
    "    plt.subplot(1,3, i[0]+1)\n",
    "    sns.countplot(x=i[1], data=df)"
   ]
  },
  {
   "cell_type": "markdown",
   "metadata": {},
   "source": [
    "Trabalhando com os histogramas, podemos ver a frequencia das variáveis.\n",
    "Essa frequência pode ser absoluta, pode ser relativa, pode ser uma densidade, mas ele vai me mostrar os dados de forma quantitativa\n",
    "\n",
    "- **Claramente, Temos uma base desbalanceada**"
   ]
  },
  {
   "cell_type": "code",
   "execution_count": 67,
   "metadata": {},
   "outputs": [
    {
     "data": {
      "text/plain": [
       "Text(0.5, 1.0, 'DISTRIBUIÇÃO DE IDADE POR SEXO E ESTADO CIVIL')"
      ]
     },
     "execution_count": 67,
     "metadata": {},
     "output_type": "execute_result"
    },
    {
     "data": {
      "image/png": "[encoded data removed]",
      "text/plain": [
       "<Figure size 1080x360 with 1 Axes>"
      ]
     },
     "metadata": {
      "needs_background": "light"
     },
     "output_type": "display_data"
    }
   ],
   "source": [
    "plt.figure(figsize=(15,5))\n",
    "\n",
    "sns.boxplot(x='sexo_est_civil', y='idade', data=df)\n",
    "\n",
    "plt.title(\"DISTRIBUIÇÃO DE IDADE POR SEXO E ESTADO CIVIL\")"
   ]
  },
  {
   "cell_type": "markdown",
   "metadata": {},
   "source": [
    "O boxplot é um excelente gráfico estatístico, com ele podemos identificar de cara alguns parâmetros:\n",
    "- a linha central é a mediana\n",
    "- temos o menor e o maior valor\n",
    "- o primeiro e o terceiro quartil\n",
    "- e também podemos ver valores discrepantes (outliers)\n",
    "\n"
   ]
  },
  {
   "cell_type": "code",
   "execution_count": 74,
   "metadata": {},
   "outputs": [
    {
     "name": "stderr",
     "output_type": "stream",
     "text": [
      "c:\\Users\\ananda.coelho\\Anaconda3\\envs\\inadimplencia\\lib\\site-packages\\seaborn\\_decorators.py:36: FutureWarning: Pass the following variables as keyword args: x, y. From version 0.12, the only valid positional argument will be `data`, and passing other arguments without an explicit keyword will result in an error or misinterpretation.\n",
      "  warnings.warn(\n"
     ]
    },
    {
     "data": {
      "image/png": "[encoded data removed]",
      "text/plain": [
       "<Figure size 1080x360 with 1 Axes>"
      ]
     },
     "metadata": {
      "needs_background": "light"
     },
     "output_type": "display_data"
    }
   ],
   "source": [
    "plt.figure(figsize=(15,5))\n",
    "\n",
    "sns.barplot(df.prazo_emprestimo_meses, df.valor_emprestimo)\n",
    "\n",
    "plt.xlabel('prazo_emprestimo_meses')\n",
    "plt.ylabel('valor_emprestimo')\n",
    "plt.title('Valor X prazo em meses')\n",
    "\n",
    "plt.show()"
   ]
  },
  {
   "cell_type": "markdown",
   "metadata": {},
   "source": [
    "O gráfico de barra facilita aqui a comparação entre categorias, mostranod a distribuição de uma delas. \n",
    "\n",
    "Essa distribuição pode ser absoluta ou percentual, relativa a alguma coisa"
   ]
  },
  {
   "cell_type": "markdown",
   "metadata": {},
   "source": [
    "Em problemas de classificação vão existir casos onde podemos ter que trabalhar com bases de dados não balanceadas. Ou seja, bases de dados com um número pequeno de exemplos de uma classe em relação às demais classes. Isto pode ocorrer devido a características do problema, a forma como os dados foram coletados ou erros durante a coleta. A presença de um número de exemplos diferentes em cada uma das classes do problema é comum. Porém, devemos nos preocupar quando essa diferença se torna muito grande.\n",
    "\n",
    "Um dos problemas que podemos ter quando trabalhamos com dados não balanceados está na acurácia. Se tivermos 80% de exemplos de clientes que não obtiveram concessão de crédito como exemplo e 20% que obtiveram crédito podemos ter uma acurácia de 80%. Entretanto, o modelo pode estar acertando 80% das vezes simplesmente porque “percebeu” que escolhendo a classe 1 para todas as tentativas teria uma porcentagem maior de acerto.\n",
    "\n",
    "Para lidar com este tipo de problema existem algumas técnicas. Uma delas é a que estamos adotando no curso que é a utilização de outras métricas, como a matriz de confusão, precisão, recall, o F1 Score e a curva ROC. Essas nos permitem entender melhor o que está acontecendo com o modelo.\n",
    "\n",
    "Outra estratégia é a reamostragem dos dados. Caso a base de dados seja grande o suficiente é possível dividi-la desconsiderando os exemplos em excesso de uma das classes. Em alguns casos também é possível testar a sobreamostragem. Na sobreamostragem são adicionadas cópias de exemplos da classe que está pouco representada na base de dados. Ainda em relação aos dados é possível gerar exemplos sintéticos. Para esse objetivo existem algoritmos que realizam uma amostragem randômica dos atributos dos exemplos da classe pouco representada na base de dados.\n",
    "\n",
    "Trabalhar o que o modelo pode fazer também é uma opção. Alguns algoritmos conseguem impor uma penalização ao modelo durante o treino. Assim, ele irá prestar mais atenção na classe com menos exemplos."
   ]
  },
  {
   "cell_type": "markdown",
   "metadata": {},
   "source": [
    "### 4.2 No Brasil, o Banco Central considera uma informação sensível:\n",
    "- Origem social e étnica\n",
    "- condições de saúde\n",
    "- informação genética\n",
    "- orientação sexual\n",
    "- convicções políticas, religiosas e filosóficas.\n",
    "\n",
    "#### **Portanto, precisamos remover essas informações do nosso dataset (que é de origem alemã, e neste país existem outras regras relacionadas às informações)**"
   ]
  },
  {
   "cell_type": "code",
   "execution_count": 76,
   "metadata": {},
   "outputs": [
    {
     "data": {
      "text/html": [
       "<div>\n",
       "<style scoped>\n",
       "    .dataframe tbody tr th:only-of-type {\n",
       "        vertical-align: middle;\n",
       "    }\n",
       "\n",
       "    .dataframe tbody tr th {\n",
       "        vertical-align: top;\n",
       "    }\n",
       "\n",
       "    .dataframe thead th {\n",
       "        text-align: right;\n",
       "    }\n",
       "</style>\n",
       "<table border=\"1\" class=\"dataframe\">\n",
       "  <thead>\n",
       "    <tr style=\"text-align: right;\">\n",
       "      <th></th>\n",
       "      <th>default</th>\n",
       "      <th>conta_corrente</th>\n",
       "      <th>prazo_emprestimo_meses</th>\n",
       "      <th>historico_credito</th>\n",
       "      <th>proposito_emprestimo</th>\n",
       "      <th>valor_emprestimo</th>\n",
       "      <th>reserva_cc</th>\n",
       "      <th>tempo_emprego_atual</th>\n",
       "      <th>taxa_comp_salario</th>\n",
       "      <th>sexo_est_civil</th>\n",
       "      <th>...</th>\n",
       "      <th>idade</th>\n",
       "      <th>outros_planos_financiamento</th>\n",
       "      <th>tipo_residencia</th>\n",
       "      <th>n_creditos_banco</th>\n",
       "      <th>status_emprego</th>\n",
       "      <th>n_dependentes</th>\n",
       "      <th>telefone</th>\n",
       "      <th>trabalhador_estrangeiro</th>\n",
       "      <th>estado_civil</th>\n",
       "      <th>sexo</th>\n",
       "    </tr>\n",
       "  </thead>\n",
       "  <tbody>\n",
       "    <tr>\n",
       "      <th>0</th>\n",
       "      <td>0</td>\n",
       "      <td>1</td>\n",
       "      <td>6</td>\n",
       "      <td>1</td>\n",
       "      <td>1</td>\n",
       "      <td>1169</td>\n",
       "      <td>1</td>\n",
       "      <td>1</td>\n",
       "      <td>4</td>\n",
       "      <td>1</td>\n",
       "      <td>...</td>\n",
       "      <td>67</td>\n",
       "      <td>1</td>\n",
       "      <td>1</td>\n",
       "      <td>2</td>\n",
       "      <td>1</td>\n",
       "      <td>1</td>\n",
       "      <td>1</td>\n",
       "      <td>1</td>\n",
       "      <td>0</td>\n",
       "      <td>0</td>\n",
       "    </tr>\n",
       "    <tr>\n",
       "      <th>1</th>\n",
       "      <td>1</td>\n",
       "      <td>2</td>\n",
       "      <td>48</td>\n",
       "      <td>2</td>\n",
       "      <td>1</td>\n",
       "      <td>5951</td>\n",
       "      <td>2</td>\n",
       "      <td>2</td>\n",
       "      <td>2</td>\n",
       "      <td>2</td>\n",
       "      <td>...</td>\n",
       "      <td>22</td>\n",
       "      <td>1</td>\n",
       "      <td>1</td>\n",
       "      <td>1</td>\n",
       "      <td>1</td>\n",
       "      <td>1</td>\n",
       "      <td>2</td>\n",
       "      <td>1</td>\n",
       "      <td>0</td>\n",
       "      <td>1</td>\n",
       "    </tr>\n",
       "    <tr>\n",
       "      <th>2</th>\n",
       "      <td>0</td>\n",
       "      <td>3</td>\n",
       "      <td>12</td>\n",
       "      <td>1</td>\n",
       "      <td>2</td>\n",
       "      <td>2096</td>\n",
       "      <td>2</td>\n",
       "      <td>3</td>\n",
       "      <td>2</td>\n",
       "      <td>1</td>\n",
       "      <td>...</td>\n",
       "      <td>49</td>\n",
       "      <td>1</td>\n",
       "      <td>1</td>\n",
       "      <td>1</td>\n",
       "      <td>2</td>\n",
       "      <td>2</td>\n",
       "      <td>2</td>\n",
       "      <td>1</td>\n",
       "      <td>0</td>\n",
       "      <td>0</td>\n",
       "    </tr>\n",
       "    <tr>\n",
       "      <th>3</th>\n",
       "      <td>0</td>\n",
       "      <td>1</td>\n",
       "      <td>42</td>\n",
       "      <td>2</td>\n",
       "      <td>3</td>\n",
       "      <td>7882</td>\n",
       "      <td>2</td>\n",
       "      <td>3</td>\n",
       "      <td>2</td>\n",
       "      <td>1</td>\n",
       "      <td>...</td>\n",
       "      <td>45</td>\n",
       "      <td>1</td>\n",
       "      <td>2</td>\n",
       "      <td>1</td>\n",
       "      <td>1</td>\n",
       "      <td>2</td>\n",
       "      <td>2</td>\n",
       "      <td>1</td>\n",
       "      <td>0</td>\n",
       "      <td>0</td>\n",
       "    </tr>\n",
       "    <tr>\n",
       "      <th>4</th>\n",
       "      <td>1</td>\n",
       "      <td>1</td>\n",
       "      <td>24</td>\n",
       "      <td>3</td>\n",
       "      <td>4</td>\n",
       "      <td>4870</td>\n",
       "      <td>2</td>\n",
       "      <td>2</td>\n",
       "      <td>3</td>\n",
       "      <td>1</td>\n",
       "      <td>...</td>\n",
       "      <td>53</td>\n",
       "      <td>1</td>\n",
       "      <td>2</td>\n",
       "      <td>2</td>\n",
       "      <td>1</td>\n",
       "      <td>2</td>\n",
       "      <td>2</td>\n",
       "      <td>1</td>\n",
       "      <td>0</td>\n",
       "      <td>0</td>\n",
       "    </tr>\n",
       "  </tbody>\n",
       "</table>\n",
       "<p>5 rows × 23 columns</p>\n",
       "</div>"
      ],
      "text/plain": [
       "   default  conta_corrente  prazo_emprestimo_meses  historico_credito  \\\n",
       "0        0               1                       6                  1   \n",
       "1        1               2                      48                  2   \n",
       "2        0               3                      12                  1   \n",
       "3        0               1                      42                  2   \n",
       "4        1               1                      24                  3   \n",
       "\n",
       "   proposito_emprestimo  valor_emprestimo  reserva_cc  tempo_emprego_atual  \\\n",
       "0                     1              1169           1                    1   \n",
       "1                     1              5951           2                    2   \n",
       "2                     2              2096           2                    3   \n",
       "3                     3              7882           2                    3   \n",
       "4                     4              4870           2                    2   \n",
       "\n",
       "   taxa_comp_salario  sexo_est_civil  ...  idade  outros_planos_financiamento  \\\n",
       "0                  4               1  ...     67                            1   \n",
       "1                  2               2  ...     22                            1   \n",
       "2                  2               1  ...     49                            1   \n",
       "3                  2               1  ...     45                            1   \n",
       "4                  3               1  ...     53                            1   \n",
       "\n",
       "   tipo_residencia  n_creditos_banco  status_emprego  n_dependentes  telefone  \\\n",
       "0                1                 2               1              1         1   \n",
       "1                1                 1               1              1         2   \n",
       "2                1                 1               2              2         2   \n",
       "3                2                 1               1              2         2   \n",
       "4                2                 2               1              2         2   \n",
       "\n",
       "   trabalhador_estrangeiro  estado_civil  sexo  \n",
       "0                        1             0     0  \n",
       "1                        1             0     1  \n",
       "2                        1             0     0  \n",
       "3                        1             0     0  \n",
       "4                        1             0     0  \n",
       "\n",
       "[5 rows x 23 columns]"
      ]
     },
     "execution_count": 76,
     "metadata": {},
     "output_type": "execute_result"
    }
   ],
   "source": [
    "## 1 = mulher\n",
    "## 0 = homem\n",
    "dict_sexo = {2:1, 5:1, 1:0, 3:0, 4:0}\n",
    "\n",
    "## 1 = solteira\n",
    "## 0 = casada/divorciada/viúva\n",
    "dict_est_civil = {3:1, 5:1, 1:0, 2:0, 4:0}\n",
    "\n",
    "df['estado_civil'] = df['sexo_est_civil'].map(dict_est_civil)\n",
    "df['sexo'] = df['sexo_est_civil'].map(dict_sexo)\n",
    "\n",
    "df.head() "
   ]
  },
  {
   "cell_type": "markdown",
   "metadata": {},
   "source": [
    "#### 4.3 Criação de uma função: automação e novos testes"
   ]
  },
  {
   "cell_type": "code",
   "execution_count": 102,
   "metadata": {},
   "outputs": [],
   "source": [
    "def treina_modelo(df, classificador):\n",
    "    print(f'A base de dados tem {df.shape[0]} linhas e {df.shape[1]} colunas.')\n",
    "    # separando os dados em treino e teste\n",
    "    treino_x, teste_x, treino_y, teste_y = separando_train_test(df)\n",
    "    # instanciando o modelo\n",
    "    model = classificador\n",
    "    model.fit(treino_x, treino_y)\n",
    "    print('-'*100)\n",
    "    # métricas do modelo\n",
    "    print(classification_report(teste_y, predito_y))\n",
    "    print('-'*100)\n",
    "    predito_y_prob = model.predict_proba(teste_x)[: ,1]\n",
    "    tfp, tvp, limit = roc_curve(teste_y, predito_y_prob)\n",
    "    print(f'area under the curve: {roc_auc_score(teste_y, predito_y_prob):.2f}')\n",
    "    # plt.subplots(1,2, figsize=(5,5))\n",
    "    # plt.subplot(1, 2, 1)\n",
    "    # matriz de confusão para verificarmos como o modelo está performando com FP e FN\n",
    "    mc = plot_confusion_matrix(model, teste_x, teste_y, cmap='Blues', values_format='.3g')\n",
    "    # plt.show()\n",
    "    # plt.subplot(1,2,2)\n",
    "    plt.subplots(figsize=(5,5))\n",
    "    plt.title('Curva ROC')\n",
    "    plt.plot(tfp, tvp)\n",
    "    plt.plot([0, 1], ls=\"--\", c = 'red') #plotando linha pontilhada guia para regressao aleatoria\n",
    "    plt.plot([0, 0], [1, 0], ls=\"--\", c = 'green'), plt.plot([1, 1], ls=\"--\", c = 'green') #plotando linha pontilhada guia para regressao perfeita\n",
    "    plt.ylabel('Sensibilidade')\n",
    "    plt.xlabel('Especificidade')\n",
    "    plt.show()\n",
    "    \n",
    "    return model, mc"
   ]
  },
  {
   "cell_type": "code",
   "execution_count": 103,
   "metadata": {},
   "outputs": [],
   "source": [
    "base_dados = df.drop(['sexo','sexo_est_civil'], axis=1)"
   ]
  },
  {
   "cell_type": "code",
   "execution_count": 104,
   "metadata": {},
   "outputs": [
    {
     "name": "stdout",
     "output_type": "stream",
     "text": [
      "A base de dados tem 1000 linhas e 21 colunas.\n",
      "O tamanho de X é (1000, 20)\n",
      "O tamanho de X é (1000,)\n",
      "A base de treino possui 700 e de teste 300\n",
      "----------------------------------------------------------------------------------------------------\n",
      "              precision    recall  f1-score   support\n",
      "\n",
      "           0       0.81      0.90      0.85       214\n",
      "           1       0.65      0.47      0.54        86\n",
      "\n",
      "    accuracy                           0.77       300\n",
      "   macro avg       0.73      0.68      0.70       300\n",
      "weighted avg       0.76      0.77      0.76       300\n",
      "\n",
      "----------------------------------------------------------------------------------------------------\n",
      "area under the curve: 0.76\n"
     ]
    },
    {
     "name": "stderr",
     "output_type": "stream",
     "text": [
      "c:\\Users\\ananda.coelho\\Anaconda3\\envs\\inadimplencia\\lib\\site-packages\\sklearn\\utils\\deprecation.py:87: FutureWarning: Function plot_confusion_matrix is deprecated; Function `plot_confusion_matrix` is deprecated in 1.0 and will be removed in 1.2. Use one of the class methods: ConfusionMatrixDisplay.from_predictions or ConfusionMatrixDisplay.from_estimator.\n",
      "  warnings.warn(msg, category=FutureWarning)\n"
     ]
    },
    {
     "data": {
      "image/png": "[encoded data removed]",
      "text/plain": [
       "<Figure size 432x288 with 2 Axes>"
      ]
     },
     "metadata": {
      "needs_background": "light"
     },
     "output_type": "display_data"
    },
    {
     "data": {
      "image/png": "[encoded data removed]",
      "text/plain": [
       "<Figure size 360x360 with 1 Axes>"
      ]
     },
     "metadata": {
      "needs_background": "light"
     },
     "output_type": "display_data"
    }
   ],
   "source": [
    "model, mc = treina_modelo(base_dados, LogisticRegression(max_iter=1000))"
   ]
  },
  {
   "cell_type": "markdown",
   "metadata": {},
   "source": [
    "#### 4.4 Cross-validation\n",
    "- Vamos aplicar essa técnica para saber quão bem o modelo está conseguindo generalizar a resposta para os dados\n",
    "\n",
    "- `K-fold`: dividimos a base `K` vezes, realizar o treino com a maior parte destas amostras e depois testar a última parte\n",
    "\n",
    "![Imagem](https://caelum-online-public.s3.amazonaws.com/2124-ml-credit-score/02/imagem-parasabermais-aula2)"
   ]
  },
  {
   "cell_type": "markdown",
   "metadata": {},
   "source": [
    "***\n",
    "***"
   ]
  }
 ],
 "metadata": {
  "kernelspec": {
   "display_name": "Python 3.9.7 ('inadimplencia')",
   "language": "python",
   "name": "python3"
  },
  "language_info": {
   "codemirror_mode": {
    "name": "ipython",
    "version": 3
   },
   "file_extension": ".py",
   "mimetype": "text/x-python",
   "name": "python",
   "nbconvert_exporter": "python",
   "pygments_lexer": "ipython3",
   "version": "3.9.7"
  },
  "orig_nbformat": 4,
  "vscode": {
   "interpreter": {
    "hash": "1aed3df5d66168cbaa8e3380f1027110e2cfe5af6000442e7804fd251f1f08b3"
   }
  }
 },
 "nbformat": 4,
 "nbformat_minor": 2
}
